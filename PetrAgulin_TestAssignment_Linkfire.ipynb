{
  "metadata": {
    "language_info": {
      "codemirror_mode": {
        "name": "python",
        "version": 3
      },
      "file_extension": ".py",
      "mimetype": "text/x-python",
      "name": "python",
      "nbconvert_exporter": "python",
      "pygments_lexer": "ipython3",
      "version": "3.8"
    },
    "kernelspec": {
      "name": "python",
      "display_name": "Python (Pyodide)",
      "language": "python"
    }
  },
  "nbformat_minor": 4,
  "nbformat": 4,
  "cells": [
    {
      "cell_type": "markdown",
      "source": "# Linkfire candidate’s assessment – Product Manager’s role – Petr Agulin ",
      "metadata": {}
    },
    {
      "cell_type": "markdown",
      "source": "### Exercise 2",
      "metadata": {}
    },
    {
      "cell_type": "markdown",
      "source": "<div class=\"alert alert-block alert-danger\">\n    \nProblem setting\n    \n\nAttached is data from 5 of our partners over a 2 week time frame showing visits (whenever the page was loaded) and ad impressions (whenever an ad was shown to a user). \n    \n\n* What do you notice?\n* Can you make statements about the partners, in comparison to each other?\n* What would you investigate next?\n    \n\nDataset:\nhttps://docs.google.com/spreadsheets/d/1juE6ejW5y5oCR2Q6fmfuvw7vLOXuDTKZs8txWGqELSY/edit?usp=sharing_eil_se_dm&ts=62fa8e0c \n\n</div>\n",
      "metadata": {}
    },
    {
      "cell_type": "markdown",
      "source": "<div class=\"alert alert-block alert-success\">\n    \nSolution\n    \n\nI have decided to analyse the dataset using my knowledge of Python. \n    \n    \nBelow is my analysis of the dataset with comments of what I do and final conclusions.\n</div>",
      "metadata": {}
    },
    {
      "cell_type": "markdown",
      "source": "<a id='Contents'></a>\n\n### Contents\n\n[1. Data upload and review](#01)\n\n* [1.1 Import of Python libraries and original data](#02)\n* [1.2 Review of the original table](#03)\n\n[2. Data pre-processing and optimization](#04)\n\n* [2.1 Check for full duplicates](#05)\n* [2.2 Changing data formats for ease of use](#06)\n\n[3. Exploratory data analysis](#07)\n\n* [3.1 Analysis of ad impressions](#08)\n* [3.2 Partner analysis](#09)\n\n[4. Conclusions](#10)",
      "metadata": {}
    },
    {
      "cell_type": "markdown",
      "source": "<a id='01'></a>\n### 1. Data upload and review",
      "metadata": {}
    },
    {
      "cell_type": "markdown",
      "source": "<a id='02'></a>\n#### 1.1. Import of Python libraries and original data",
      "metadata": {}
    },
    {
      "cell_type": "code",
      "source": "# Let's import the necessary Python libraries\nimport pandas as pd\nimport numpy as np\nfrom datetime import datetime\nimport datetime as dt",
      "metadata": {
        "trusted": true
      },
      "execution_count": 263,
      "outputs": []
    },
    {
      "cell_type": "code",
      "source": "# Let's create a dataframe by importing the Linkfire's original data from the .csv file to which I saved the Google Sheets data\ndf = pd.read_csv('Linkfire.csv', sep=',')\ndf.name = 'linkfire'",
      "metadata": {
        "trusted": true
      },
      "execution_count": 264,
      "outputs": []
    },
    {
      "cell_type": "markdown",
      "source": "<a id='03'></a>\n#### 1.2. Review of the original table",
      "metadata": {}
    },
    {
      "cell_type": "code",
      "source": "# Let's see what we have...\n\n# Let's see how random 10 rows of the table look\ndisplay(df.sample(10)) ",
      "metadata": {
        "trusted": true
      },
      "execution_count": 265,
      "outputs": [
        {
          "output_type": "display_data",
          "data": {
            "text/plain": "     partner        date  visits  ad_impressions\n22  partner2  2022-07-12   33305               0\n17  partner2  2022-07-07   34330           17963\n46  partner4  2022-07-08  555451          202404\n40  partner3  2022-07-16       1               3\n48  partner4  2022-07-10  537434          201600\n26  partner2  2022-07-16   39021           19661\n27  partner2  2022-07-17   40082           18575\n66  partner5  2022-07-14  338768           64078\n51  partner4  2022-07-13  520493               0\n60  partner5  2022-07-08  413480           71612",
            "text/html": "<div>\n<style scoped>\n    .dataframe tbody tr th:only-of-type {\n        vertical-align: middle;\n    }\n\n    .dataframe tbody tr th {\n        vertical-align: top;\n    }\n\n    .dataframe thead th {\n        text-align: right;\n    }\n</style>\n<table border=\"1\" class=\"dataframe\">\n  <thead>\n    <tr style=\"text-align: right;\">\n      <th></th>\n      <th>partner</th>\n      <th>date</th>\n      <th>visits</th>\n      <th>ad_impressions</th>\n    </tr>\n  </thead>\n  <tbody>\n    <tr>\n      <th>22</th>\n      <td>partner2</td>\n      <td>2022-07-12</td>\n      <td>33305</td>\n      <td>0</td>\n    </tr>\n    <tr>\n      <th>17</th>\n      <td>partner2</td>\n      <td>2022-07-07</td>\n      <td>34330</td>\n      <td>17963</td>\n    </tr>\n    <tr>\n      <th>46</th>\n      <td>partner4</td>\n      <td>2022-07-08</td>\n      <td>555451</td>\n      <td>202404</td>\n    </tr>\n    <tr>\n      <th>40</th>\n      <td>partner3</td>\n      <td>2022-07-16</td>\n      <td>1</td>\n      <td>3</td>\n    </tr>\n    <tr>\n      <th>48</th>\n      <td>partner4</td>\n      <td>2022-07-10</td>\n      <td>537434</td>\n      <td>201600</td>\n    </tr>\n    <tr>\n      <th>26</th>\n      <td>partner2</td>\n      <td>2022-07-16</td>\n      <td>39021</td>\n      <td>19661</td>\n    </tr>\n    <tr>\n      <th>27</th>\n      <td>partner2</td>\n      <td>2022-07-17</td>\n      <td>40082</td>\n      <td>18575</td>\n    </tr>\n    <tr>\n      <th>66</th>\n      <td>partner5</td>\n      <td>2022-07-14</td>\n      <td>338768</td>\n      <td>64078</td>\n    </tr>\n    <tr>\n      <th>51</th>\n      <td>partner4</td>\n      <td>2022-07-13</td>\n      <td>520493</td>\n      <td>0</td>\n    </tr>\n    <tr>\n      <th>60</th>\n      <td>partner5</td>\n      <td>2022-07-08</td>\n      <td>413480</td>\n      <td>71612</td>\n    </tr>\n  </tbody>\n</table>\n</div>"
          },
          "metadata": {}
        }
      ]
    },
    {
      "cell_type": "code",
      "source": "# Let's see the main info about the table\ndisplay(df.info())",
      "metadata": {
        "trusted": true
      },
      "execution_count": 266,
      "outputs": [
        {
          "name": "stdout",
          "text": "<class 'pandas.core.frame.DataFrame'>\nRangeIndex: 70 entries, 0 to 69\nData columns (total 4 columns):\n #   Column          Non-Null Count  Dtype \n---  ------          --------------  ----- \n 0   partner         70 non-null     object\n 1   date            70 non-null     object\n 2   visits          70 non-null     int64 \n 3   ad_impressions  70 non-null     int64 \ndtypes: int64(2), object(2)\nmemory usage: 1.7+ KB\n",
          "output_type": "stream"
        },
        {
          "output_type": "display_data",
          "data": {
            "text/plain": "None"
          },
          "metadata": {}
        }
      ]
    },
    {
      "cell_type": "code",
      "source": "# Let's see the main statistics of the dataset\ndisplay(df.describe())",
      "metadata": {
        "trusted": true
      },
      "execution_count": 267,
      "outputs": [
        {
          "output_type": "display_data",
          "data": {
            "text/plain": "              visits  ad_impressions\ncount      70.000000       70.000000\nmean   199303.685714    57002.685714\nstd    208774.767478    70429.625060\nmin         1.000000        0.000000\n25%     33307.500000        7.000000\n50%     92154.500000    32377.000000\n75%    388375.000000    63578.500000\nmax    583511.000000   218407.000000",
            "text/html": "<div>\n<style scoped>\n    .dataframe tbody tr th:only-of-type {\n        vertical-align: middle;\n    }\n\n    .dataframe tbody tr th {\n        vertical-align: top;\n    }\n\n    .dataframe thead th {\n        text-align: right;\n    }\n</style>\n<table border=\"1\" class=\"dataframe\">\n  <thead>\n    <tr style=\"text-align: right;\">\n      <th></th>\n      <th>visits</th>\n      <th>ad_impressions</th>\n    </tr>\n  </thead>\n  <tbody>\n    <tr>\n      <th>count</th>\n      <td>70.000000</td>\n      <td>70.000000</td>\n    </tr>\n    <tr>\n      <th>mean</th>\n      <td>199303.685714</td>\n      <td>57002.685714</td>\n    </tr>\n    <tr>\n      <th>std</th>\n      <td>208774.767478</td>\n      <td>70429.625060</td>\n    </tr>\n    <tr>\n      <th>min</th>\n      <td>1.000000</td>\n      <td>0.000000</td>\n    </tr>\n    <tr>\n      <th>25%</th>\n      <td>33307.500000</td>\n      <td>7.000000</td>\n    </tr>\n    <tr>\n      <th>50%</th>\n      <td>92154.500000</td>\n      <td>32377.000000</td>\n    </tr>\n    <tr>\n      <th>75%</th>\n      <td>388375.000000</td>\n      <td>63578.500000</td>\n    </tr>\n    <tr>\n      <th>max</th>\n      <td>583511.000000</td>\n      <td>218407.000000</td>\n    </tr>\n  </tbody>\n</table>\n</div>"
          },
          "metadata": {}
        }
      ]
    },
    {
      "cell_type": "code",
      "source": "# Let's see right away how many different partners we have\ndf['partner'].unique()",
      "metadata": {
        "trusted": true
      },
      "execution_count": 268,
      "outputs": [
        {
          "execution_count": 268,
          "output_type": "execute_result",
          "data": {
            "text/plain": "array(['partner1', 'partner2', 'partner3', 'partner4', 'partner5'],\n      dtype=object)"
          },
          "metadata": {}
        }
      ]
    },
    {
      "cell_type": "markdown",
      "source": "We can immediately note the following: \n\n* The table has 70 records (rows) in total\n* There are no blanks (no missing values), so we don't need to fill in the blanks\n* The \"date\" column contains data of the type string (text) - we'd better change the format to datetime\n* Table's columns have understandable names, so we don't need to rename them for clarity\n* There are 5 different partners in total",
      "metadata": {}
    },
    {
      "cell_type": "markdown",
      "source": "[Up to the contents](#Contents)",
      "metadata": {}
    },
    {
      "cell_type": "markdown",
      "source": "<a id='04'></a>\n### 2. Data pre-processing and optimization",
      "metadata": {}
    },
    {
      "cell_type": "markdown",
      "source": "<a id='05'></a>\n#### 2.1. Check for full duplicates",
      "metadata": {}
    },
    {
      "cell_type": "code",
      "source": "# Let's show the sum of duplicated rows\ndf.duplicated().sum()",
      "metadata": {
        "trusted": true
      },
      "execution_count": 269,
      "outputs": [
        {
          "execution_count": 269,
          "output_type": "execute_result",
          "data": {
            "text/plain": "0"
          },
          "metadata": {}
        }
      ]
    },
    {
      "cell_type": "markdown",
      "source": "There are no duplicated rows, so we don't need to delete them. ",
      "metadata": {}
    },
    {
      "cell_type": "markdown",
      "source": "<a id='06'></a>\n#### 2.2. Changing data formats for ease of use",
      "metadata": {}
    },
    {
      "cell_type": "code",
      "source": "# Let's change the string format of the column \"date\" to \"datetime\"\ndf['date'] = pd.to_datetime(df['date'])",
      "metadata": {
        "trusted": true
      },
      "execution_count": 270,
      "outputs": []
    },
    {
      "cell_type": "code",
      "source": "# Let's control that the format change has been made, and the \"date\" column is now in datetime format\ndf.dtypes",
      "metadata": {
        "trusted": true
      },
      "execution_count": 271,
      "outputs": [
        {
          "execution_count": 271,
          "output_type": "execute_result",
          "data": {
            "text/plain": "partner                   object\ndate              datetime64[ns]\nvisits                     int64\nad_impressions             int64\ndtype: object"
          },
          "metadata": {}
        }
      ]
    },
    {
      "cell_type": "markdown",
      "source": "Column values are now of the needed formats.",
      "metadata": {}
    },
    {
      "cell_type": "markdown",
      "source": "[Up to the contents](#Contents)",
      "metadata": {}
    },
    {
      "cell_type": "markdown",
      "source": "<a id='07'></a>\n### 3. Exploratory data analysis",
      "metadata": {}
    },
    {
      "cell_type": "markdown",
      "source": "<a id='08'></a>\n#### 3.1. Analysis of ad impressions ",
      "metadata": {}
    },
    {
      "cell_type": "code",
      "source": "# let's add a new column with weekday names for convenience\ndf['weekday'] = df['date'].dt.day_name()\n\n# Let's put the new column next to the \"date\" column\ndf = df[['partner', 'date', 'weekday', 'visits', 'ad_impressions']]\n\n# Let's see what we got\ndf.tail()",
      "metadata": {
        "trusted": true
      },
      "execution_count": 272,
      "outputs": [
        {
          "execution_count": 272,
          "output_type": "execute_result",
          "data": {
            "text/plain": "     partner       date    weekday  visits  ad_impressions\n65  partner5 2022-07-13  Wednesday  320541               0\n66  partner5 2022-07-14   Thursday  338768           64078\n67  partner5 2022-07-15     Friday  421557           68416\n68  partner5 2022-07-16   Saturday  392375           55674\n69  partner5 2022-07-17     Sunday  330021           47120",
            "text/html": "<div>\n<style scoped>\n    .dataframe tbody tr th:only-of-type {\n        vertical-align: middle;\n    }\n\n    .dataframe tbody tr th {\n        vertical-align: top;\n    }\n\n    .dataframe thead th {\n        text-align: right;\n    }\n</style>\n<table border=\"1\" class=\"dataframe\">\n  <thead>\n    <tr style=\"text-align: right;\">\n      <th></th>\n      <th>partner</th>\n      <th>date</th>\n      <th>weekday</th>\n      <th>visits</th>\n      <th>ad_impressions</th>\n    </tr>\n  </thead>\n  <tbody>\n    <tr>\n      <th>65</th>\n      <td>partner5</td>\n      <td>2022-07-13</td>\n      <td>Wednesday</td>\n      <td>320541</td>\n      <td>0</td>\n    </tr>\n    <tr>\n      <th>66</th>\n      <td>partner5</td>\n      <td>2022-07-14</td>\n      <td>Thursday</td>\n      <td>338768</td>\n      <td>64078</td>\n    </tr>\n    <tr>\n      <th>67</th>\n      <td>partner5</td>\n      <td>2022-07-15</td>\n      <td>Friday</td>\n      <td>421557</td>\n      <td>68416</td>\n    </tr>\n    <tr>\n      <th>68</th>\n      <td>partner5</td>\n      <td>2022-07-16</td>\n      <td>Saturday</td>\n      <td>392375</td>\n      <td>55674</td>\n    </tr>\n    <tr>\n      <th>69</th>\n      <td>partner5</td>\n      <td>2022-07-17</td>\n      <td>Sunday</td>\n      <td>330021</td>\n      <td>47120</td>\n    </tr>\n  </tbody>\n</table>\n</div>"
          },
          "metadata": {}
        }
      ]
    },
    {
      "cell_type": "code",
      "source": "# Actually, since the dataframe is not very long - just 70 rows - I want to see it all and not just a selection. \n# Maybe my eyes will notice some regularities or patterns.\n\nwith pd.option_context('display.max_rows', None):\n    print(df)",
      "metadata": {
        "trusted": true
      },
      "execution_count": 273,
      "outputs": [
        {
          "name": "stdout",
          "text": "     partner       date    weekday  visits  ad_impressions\n0   partner1 2022-07-04     Monday   90920           57702\n1   partner1 2022-07-05    Tuesday   90622           59285\n2   partner1 2022-07-06  Wednesday   91324           57795\n3   partner1 2022-07-07   Thursday   92700           59718\n4   partner1 2022-07-08     Friday   92011           61069\n5   partner1 2022-07-09   Saturday   93633           62080\n6   partner1 2022-07-10     Sunday   92298           61185\n7   partner1 2022-07-11     Monday  110757           70354\n8   partner1 2022-07-12    Tuesday   94363               0\n9   partner1 2022-07-13  Wednesday   85600               0\n10  partner1 2022-07-14   Thursday   73036           45063\n11  partner1 2022-07-15     Friday   89742           55355\n12  partner1 2022-07-16   Saturday  102304           60884\n13  partner1 2022-07-17     Sunday   94211           58198\n14  partner2 2022-07-04     Monday   34592           18744\n15  partner2 2022-07-05    Tuesday   36458           18663\n16  partner2 2022-07-06  Wednesday   34162           17666\n17  partner2 2022-07-07   Thursday   34330           17963\n18  partner2 2022-07-08     Friday   34341           18116\n19  partner2 2022-07-09   Saturday   42152           22098\n20  partner2 2022-07-10     Sunday   44638           22550\n21  partner2 2022-07-11     Monday   33315           17561\n22  partner2 2022-07-12    Tuesday   33305               0\n23  partner2 2022-07-13  Wednesday   31966               0\n24  partner2 2022-07-14   Thursday   30504           14067\n25  partner2 2022-07-15     Friday   31128           15591\n26  partner2 2022-07-16   Saturday   39021           19661\n27  partner2 2022-07-17     Sunday   40082           18575\n28  partner3 2022-07-04     Monday      15               9\n29  partner3 2022-07-05    Tuesday      14              12\n30  partner3 2022-07-06  Wednesday       5               3\n31  partner3 2022-07-07   Thursday       6               7\n32  partner3 2022-07-08     Friday      12               9\n33  partner3 2022-07-09   Saturday       1               3\n34  partner3 2022-07-10     Sunday       8               7\n35  partner3 2022-07-11     Monday       2               7\n36  partner3 2022-07-12    Tuesday       2               0\n37  partner3 2022-07-13  Wednesday       2               0\n38  partner3 2022-07-14   Thursday       1               3\n39  partner3 2022-07-15     Friday       4               2\n40  partner3 2022-07-16   Saturday       1               3\n41  partner3 2022-07-17     Sunday       1               0\n42  partner4 2022-07-04     Monday  545946          188649\n43  partner4 2022-07-05    Tuesday  552098          188119\n44  partner4 2022-07-06  Wednesday  558658          192777\n45  partner4 2022-07-07   Thursday  583511          205573\n46  partner4 2022-07-08     Friday  555451          202404\n47  partner4 2022-07-09   Saturday  535151          196811\n48  partner4 2022-07-10     Sunday  537434          201600\n49  partner4 2022-07-11     Monday  570625          213077\n50  partner4 2022-07-12    Tuesday  547196               0\n51  partner4 2022-07-13  Wednesday  520493               0\n52  partner4 2022-07-14   Thursday  483700          204808\n53  partner4 2022-07-15     Friday  541057          218407\n54  partner4 2022-07-16   Saturday  502846          199264\n55  partner4 2022-07-17     Sunday  486352          202516\n56  partner5 2022-07-04     Monday  203747           28909\n57  partner5 2022-07-05    Tuesday  232601           35845\n58  partner5 2022-07-06  Wednesday  264024           43283\n59  partner5 2022-07-07   Thursday  263972           45159\n60  partner5 2022-07-08     Friday  413480           71612\n61  partner5 2022-07-09   Saturday  411067           64466\n62  partner5 2022-07-10     Sunday  376375           57245\n63  partner5 2022-07-11     Monday  340369           64368\n64  partner5 2022-07-12    Tuesday  328254               0\n65  partner5 2022-07-13  Wednesday  320541               0\n66  partner5 2022-07-14   Thursday  338768           64078\n67  partner5 2022-07-15     Friday  421557           68416\n68  partner5 2022-07-16   Saturday  392375           55674\n69  partner5 2022-07-17     Sunday  330021           47120\n",
          "output_type": "stream"
        }
      ]
    },
    {
      "cell_type": "markdown",
      "source": "Zeros for ad impressions seemingly always go in pairs. Let's only look at the rows with zero ad impressions - maybe we will notice some pattern",
      "metadata": {}
    },
    {
      "cell_type": "code",
      "source": "# Let's filter out the dataframe keeping only the rows with 0 as impressions\ndf.query('ad_impressions == 0')",
      "metadata": {
        "trusted": true
      },
      "execution_count": 274,
      "outputs": [
        {
          "execution_count": 274,
          "output_type": "execute_result",
          "data": {
            "text/plain": "     partner       date    weekday  visits  ad_impressions\n8   partner1 2022-07-12    Tuesday   94363               0\n9   partner1 2022-07-13  Wednesday   85600               0\n22  partner2 2022-07-12    Tuesday   33305               0\n23  partner2 2022-07-13  Wednesday   31966               0\n36  partner3 2022-07-12    Tuesday       2               0\n37  partner3 2022-07-13  Wednesday       2               0\n41  partner3 2022-07-17     Sunday       1               0\n50  partner4 2022-07-12    Tuesday  547196               0\n51  partner4 2022-07-13  Wednesday  520493               0\n64  partner5 2022-07-12    Tuesday  328254               0\n65  partner5 2022-07-13  Wednesday  320541               0",
            "text/html": "<div>\n<style scoped>\n    .dataframe tbody tr th:only-of-type {\n        vertical-align: middle;\n    }\n\n    .dataframe tbody tr th {\n        vertical-align: top;\n    }\n\n    .dataframe thead th {\n        text-align: right;\n    }\n</style>\n<table border=\"1\" class=\"dataframe\">\n  <thead>\n    <tr style=\"text-align: right;\">\n      <th></th>\n      <th>partner</th>\n      <th>date</th>\n      <th>weekday</th>\n      <th>visits</th>\n      <th>ad_impressions</th>\n    </tr>\n  </thead>\n  <tbody>\n    <tr>\n      <th>8</th>\n      <td>partner1</td>\n      <td>2022-07-12</td>\n      <td>Tuesday</td>\n      <td>94363</td>\n      <td>0</td>\n    </tr>\n    <tr>\n      <th>9</th>\n      <td>partner1</td>\n      <td>2022-07-13</td>\n      <td>Wednesday</td>\n      <td>85600</td>\n      <td>0</td>\n    </tr>\n    <tr>\n      <th>22</th>\n      <td>partner2</td>\n      <td>2022-07-12</td>\n      <td>Tuesday</td>\n      <td>33305</td>\n      <td>0</td>\n    </tr>\n    <tr>\n      <th>23</th>\n      <td>partner2</td>\n      <td>2022-07-13</td>\n      <td>Wednesday</td>\n      <td>31966</td>\n      <td>0</td>\n    </tr>\n    <tr>\n      <th>36</th>\n      <td>partner3</td>\n      <td>2022-07-12</td>\n      <td>Tuesday</td>\n      <td>2</td>\n      <td>0</td>\n    </tr>\n    <tr>\n      <th>37</th>\n      <td>partner3</td>\n      <td>2022-07-13</td>\n      <td>Wednesday</td>\n      <td>2</td>\n      <td>0</td>\n    </tr>\n    <tr>\n      <th>41</th>\n      <td>partner3</td>\n      <td>2022-07-17</td>\n      <td>Sunday</td>\n      <td>1</td>\n      <td>0</td>\n    </tr>\n    <tr>\n      <th>50</th>\n      <td>partner4</td>\n      <td>2022-07-12</td>\n      <td>Tuesday</td>\n      <td>547196</td>\n      <td>0</td>\n    </tr>\n    <tr>\n      <th>51</th>\n      <td>partner4</td>\n      <td>2022-07-13</td>\n      <td>Wednesday</td>\n      <td>520493</td>\n      <td>0</td>\n    </tr>\n    <tr>\n      <th>64</th>\n      <td>partner5</td>\n      <td>2022-07-12</td>\n      <td>Tuesday</td>\n      <td>328254</td>\n      <td>0</td>\n    </tr>\n    <tr>\n      <th>65</th>\n      <td>partner5</td>\n      <td>2022-07-13</td>\n      <td>Wednesday</td>\n      <td>320541</td>\n      <td>0</td>\n    </tr>\n  </tbody>\n</table>\n</div>"
          },
          "metadata": {}
        }
      ]
    },
    {
      "cell_type": "markdown",
      "source": "Ok, now it's clear that zero ad impressions only happened on two specific dates - **Tuesday 07.12.2022** and **Wednesday 07.13.2022**.\n\nAlso, we see that there were visits on those dates, so it's just the abcense of ad impressions. We will need to inquire why exactly these days ads were not shown to visitors - is it because the budget balance going down on those dates or for some technical reason, or maybe some experiment? This is the first question we should write down. ",
      "metadata": {}
    },
    {
      "cell_type": "markdown",
      "source": "Let's now analyze partners.",
      "metadata": {}
    },
    {
      "cell_type": "markdown",
      "source": "<a id='09'></a>\n#### 3.2. Partner analysis \nIt seems like all 5 partners have various daily audience and they also have different coverage of daily visits with ad impressions. Let's find out more. ",
      "metadata": {}
    },
    {
      "cell_type": "code",
      "source": "# let's first add a new column with percentage of daily coverage (how many visits \"recieved\" ad displays)\ndf['ad_coverage_%'] = ((df['ad_impressions'] / df['visits'])*100).round(2)\ndf.head(5)",
      "metadata": {
        "trusted": true
      },
      "execution_count": 275,
      "outputs": [
        {
          "execution_count": 275,
          "output_type": "execute_result",
          "data": {
            "text/plain": "    partner       date    weekday  visits  ad_impressions  ad_coverage_%\n0  partner1 2022-07-04     Monday   90920           57702          63.46\n1  partner1 2022-07-05    Tuesday   90622           59285          65.42\n2  partner1 2022-07-06  Wednesday   91324           57795          63.29\n3  partner1 2022-07-07   Thursday   92700           59718          64.42\n4  partner1 2022-07-08     Friday   92011           61069          66.37",
            "text/html": "<div>\n<style scoped>\n    .dataframe tbody tr th:only-of-type {\n        vertical-align: middle;\n    }\n\n    .dataframe tbody tr th {\n        vertical-align: top;\n    }\n\n    .dataframe thead th {\n        text-align: right;\n    }\n</style>\n<table border=\"1\" class=\"dataframe\">\n  <thead>\n    <tr style=\"text-align: right;\">\n      <th></th>\n      <th>partner</th>\n      <th>date</th>\n      <th>weekday</th>\n      <th>visits</th>\n      <th>ad_impressions</th>\n      <th>ad_coverage_%</th>\n    </tr>\n  </thead>\n  <tbody>\n    <tr>\n      <th>0</th>\n      <td>partner1</td>\n      <td>2022-07-04</td>\n      <td>Monday</td>\n      <td>90920</td>\n      <td>57702</td>\n      <td>63.46</td>\n    </tr>\n    <tr>\n      <th>1</th>\n      <td>partner1</td>\n      <td>2022-07-05</td>\n      <td>Tuesday</td>\n      <td>90622</td>\n      <td>59285</td>\n      <td>65.42</td>\n    </tr>\n    <tr>\n      <th>2</th>\n      <td>partner1</td>\n      <td>2022-07-06</td>\n      <td>Wednesday</td>\n      <td>91324</td>\n      <td>57795</td>\n      <td>63.29</td>\n    </tr>\n    <tr>\n      <th>3</th>\n      <td>partner1</td>\n      <td>2022-07-07</td>\n      <td>Thursday</td>\n      <td>92700</td>\n      <td>59718</td>\n      <td>64.42</td>\n    </tr>\n    <tr>\n      <th>4</th>\n      <td>partner1</td>\n      <td>2022-07-08</td>\n      <td>Friday</td>\n      <td>92011</td>\n      <td>61069</td>\n      <td>66.37</td>\n    </tr>\n  </tbody>\n</table>\n</div>"
          },
          "metadata": {}
        }
      ]
    },
    {
      "cell_type": "code",
      "source": "# Let's now group by partners, display them in descending order by their daily median visits, and also see their daily\n# median ad impressions and daily median ad coverage\n\nmean_daily_visits_by_partners = df.groupby('partner').agg({'visits': 'median', 'ad_impressions':'median', 'ad_coverage_%':'median'})\\\n.sort_values(by = 'visits', ascending=False).reset_index()\nmean_daily_visits_by_partners.columns = ['partner','median daily visits', 'median_daily_ad_impressions', 'median_daily_ad_coverage_%']\nmean_daily_visits_by_partners.round(2)",
      "metadata": {
        "trusted": true
      },
      "execution_count": 276,
      "outputs": [
        {
          "execution_count": 276,
          "output_type": "execute_result",
          "data": {
            "text/plain": "    partner  median daily visits  median_daily_ad_impressions  \\\n0  partner4             543501.5                     200432.0   \n1  partner5             334394.5                      51397.0   \n2  partner1              92154.5                      58741.5   \n3  partner2              34335.5                      18039.5   \n4  partner3                  3.0                          3.0   \n\n   median_daily_ad_coverage_%  \n0                       36.61  \n1                       15.54  \n2                       63.38  \n3                       50.86  \n4                       80.35  ",
            "text/html": "<div>\n<style scoped>\n    .dataframe tbody tr th:only-of-type {\n        vertical-align: middle;\n    }\n\n    .dataframe tbody tr th {\n        vertical-align: top;\n    }\n\n    .dataframe thead th {\n        text-align: right;\n    }\n</style>\n<table border=\"1\" class=\"dataframe\">\n  <thead>\n    <tr style=\"text-align: right;\">\n      <th></th>\n      <th>partner</th>\n      <th>median daily visits</th>\n      <th>median_daily_ad_impressions</th>\n      <th>median_daily_ad_coverage_%</th>\n    </tr>\n  </thead>\n  <tbody>\n    <tr>\n      <th>0</th>\n      <td>partner4</td>\n      <td>543501.5</td>\n      <td>200432.0</td>\n      <td>36.61</td>\n    </tr>\n    <tr>\n      <th>1</th>\n      <td>partner5</td>\n      <td>334394.5</td>\n      <td>51397.0</td>\n      <td>15.54</td>\n    </tr>\n    <tr>\n      <th>2</th>\n      <td>partner1</td>\n      <td>92154.5</td>\n      <td>58741.5</td>\n      <td>63.38</td>\n    </tr>\n    <tr>\n      <th>3</th>\n      <td>partner2</td>\n      <td>34335.5</td>\n      <td>18039.5</td>\n      <td>50.86</td>\n    </tr>\n    <tr>\n      <th>4</th>\n      <td>partner3</td>\n      <td>3.0</td>\n      <td>3.0</td>\n      <td>80.35</td>\n    </tr>\n  </tbody>\n</table>\n</div>"
          },
          "metadata": {}
        }
      ]
    },
    {
      "cell_type": "markdown",
      "source": "We can see that partner websites are really different in daily audience. While Partner 4 has about 543,000 daily visits (it's unclear to me whether those are unique visitors or all visits including repetitive visits of the same users), Partner 3 has about only 3 daily visits. \n\nI believe, we need to get more information about the partners and their specifics. Why Partner 3 has so few visits - is it an experimental or brand new website? Why is it then included in our marketing mix of partners? This is what we should investigate by asking colleagues. \n\nAnother thing that we're missing is actually what are the budget spendings on each partner per ad impression? We don't know which ones are cheap and which are expensive. \n\nFinally, we don't have conversion data from impressions to clicks. Without cost per impression and ad conversion, we cannot really tell which platforms are more beneficial for budget spending. \n\nIt only leaves us with the possibility to check the daily median \"coverage\" of ads (how many visitors are affected by ad displays). ",
      "metadata": {}
    },
    {
      "cell_type": "markdown",
      "source": "We see that different partners have different coverage - ad impressions to their visitors. For eaxample, for partner 1 ads are shown to about 63% of daily visitors (visits), and for partner 4 (who has the biggest daily audience) - the ads are shown on 36% of visits.\n\nWe should really ask more about the different partners and their specifics. ",
      "metadata": {}
    },
    {
      "cell_type": "markdown",
      "source": "[Up to the contents](#Contents)",
      "metadata": {}
    },
    {
      "cell_type": "markdown",
      "source": "<a id='10'></a>\n### 4. Conclusions",
      "metadata": {}
    },
    {
      "cell_type": "markdown",
      "source": "Here's the summary of observations from the data set: \n\n* Partners are very different in terms of daily visits to their resources, **ranging from average of 3 visit for partner 3 to 534,500 visits for partner 4 per day**. We need to learn more about specifics of those partners and their audience. We should also ask **why do we need partner 3** with so few daily visits. \n* Partners are also different in terms of **how we spend the advertising budget on them (not in the money terms but in terms of ad impressions, because we don't know the costs per impression**). We need to further **inquire about costs per impression per partner**. That will give us the sum of ad costs per partner for that period of time, **so we know which partner is the most expensive and cheap for us**. \n* We **don't know the conversion rates from ad impressions to ad clicks** and transitions, so we deffinitely need to inquire about that to know how effectively budgets are spent on different partners. \n* On two specific dates - **Tuesday 07.12.2022 and Wednesday 07.13.2022** - there were no ad displays for all partners. Probably those days we were out of budget, or we stopped advertising, or there were technical issues or other reasons. We need to ask, maybe somebody can explain. \n",
      "metadata": {}
    }
  ]
}